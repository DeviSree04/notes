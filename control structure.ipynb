{
 "cells": [
  {
   "cell_type": "markdown",
   "id": "903beb73-788a-4c27-b46d-490d38f355a8",
   "metadata": {},
   "source": [
    "# conditional statements:\n",
    "# three types\n",
    "1 if\n",
    "syntax:\n",
    "if<con>:\n",
    "  <stmt>\n",
    "\n",
    "2 if else\n",
    "syntax:\n",
    "if<con>:\n",
    "  <stmt1>\n",
    "else:\n",
    "  <stmt2>\n",
    "\n",
    "3 elif\n",
    "syntax:\n",
    "if<con>:\n",
    "  <stmt1>\n",
    "elif\n",
    " <stmt2>\n",
    "else:\n",
    " <stmt>"
   ]
  },
  {
   "cell_type": "code",
   "execution_count": 17,
   "id": "1dd62219-36ac-4bcb-a5ec-3205967911d7",
   "metadata": {},
   "outputs": [
    {
     "name": "stdin",
     "output_type": "stream",
     "text": [
      "Enter the number:  7\n",
      "Enter the number:  3\n"
     ]
    }
   ],
   "source": [
    "num1 = input(\"Enter the number: \")\n",
    "num2 = input(\"Enter the number: \")"
   ]
  },
  {
   "cell_type": "code",
   "execution_count": 9,
   "id": "4f34573c-d2a6-4de8-ad4a-7a83d0998e23",
   "metadata": {},
   "outputs": [
    {
     "data": {
      "text/plain": [
       "str"
      ]
     },
     "execution_count": 9,
     "metadata": {},
     "output_type": "execute_result"
    }
   ],
   "source": [
    "type(num1)\n"
   ]
  },
  {
   "cell_type": "markdown",
   "id": "9755179d-31f0-494e-bc0b-21efa8bc293c",
   "metadata": {},
   "source": [
    "# if statement"
   ]
  },
  {
   "cell_type": "code",
   "execution_count": 10,
   "id": "e6e120da-028c-4208-a370-dc9be54ea1ed",
   "metadata": {},
   "outputs": [
    {
     "name": "stdout",
     "output_type": "stream",
     "text": [
      "The number 45 is greater then 18\n"
     ]
    }
   ],
   "source": [
    "if int(num1)>int(num2):\n",
    "    print(f\"The number {num1} is greater then {num2}\")"
   ]
  },
  {
   "cell_type": "code",
   "execution_count": 15,
   "id": "daa75509-4c96-4d2e-8b54-7985b181b8a6",
   "metadata": {},
   "outputs": [
    {
     "name": "stdout",
     "output_type": "stream",
     "text": [
      "The number 7 is equal to 7\n"
     ]
    }
   ],
   "source": [
    "if int(num1)==int(num2):\n",
    "    print(f\"The number {num1} is equal to {num2}\")"
   ]
  },
  {
   "cell_type": "code",
   "execution_count": 19,
   "id": "198293e8-7837-4efe-bba9-f7fcb4d16588",
   "metadata": {},
   "outputs": [
    {
     "name": "stdout",
     "output_type": "stream",
     "text": [
      "the number 3 is lesser than 7 \n"
     ]
    }
   ],
   "source": [
    "if int(num2)<int(num1):\n",
    "    print(f\"the number {num2} is lesser than {num1} \")\n",
    "    "
   ]
  },
  {
   "cell_type": "markdown",
   "id": "c288f539-bd72-4c19-883f-5e544e1ec2e1",
   "metadata": {},
   "source": [
    "# checking divisiblity by 4 - using if"
   ]
  },
  {
   "cell_type": "code",
   "execution_count": 26,
   "id": "60240663-54e6-4e16-ba14-d77e86d802ce",
   "metadata": {},
   "outputs": [
    {
     "name": "stdout",
     "output_type": "stream",
     "text": [
      "the number 1904 is divisible by 4 \n"
     ]
    }
   ],
   "source": [
    "if int(a) % 4 ==0:\n",
    "    print(f\"the number {a} is divisible by 4 \")\n",
    "    "
   ]
  },
  {
   "cell_type": "code",
   "execution_count": 24,
   "id": "58cfc340-ed5a-4260-a6f4-07c258fdc001",
   "metadata": {},
   "outputs": [
    {
     "name": "stdin",
     "output_type": "stream",
     "text": [
      "enter the first num:  1904\n",
      " enter the second num: 1209\n"
     ]
    }
   ],
   "source": [
    "a= int(input(\"enter the first num: \"))\n",
    "b= int(input(\" enter the second num:\"))\n",
    "\n",
    "       "
   ]
  },
  {
   "cell_type": "markdown",
   "id": "6050f699-aa54-4114-bbbc-fb25822c937b",
   "metadata": {},
   "source": [
    "# else if\n"
   ]
  },
  {
   "cell_type": "markdown",
   "id": "3476fff9-2f73-417c-967f-9ab71d67cc6a",
   "metadata": {},
   "source": [
    "# check the positive number or not"
   ]
  },
  {
   "cell_type": "code",
   "execution_count": 3,
   "id": "dfa05641-9038-435e-995f-bf0908a4bdab",
   "metadata": {},
   "outputs": [
    {
     "name": "stdin",
     "output_type": "stream",
     "text": [
      " enter the first number: 7\n",
      " enter the second number: -9\n"
     ]
    }
   ],
   "source": [
    "a1= int(input(\" enter the first number:\"))\n",
    "b1= int(input(\" enter the second number:\"))\n",
    "        "
   ]
  },
  {
   "cell_type": "code",
   "execution_count": 7,
   "id": "a7224501-c819-440b-8693-2eb384e22e05",
   "metadata": {},
   "outputs": [
    {
     "name": "stdout",
     "output_type": "stream",
     "text": [
      "the number 7 is positive\n"
     ]
    }
   ],
   "source": [
    "if int (a1) >= 0:\n",
    "   print(f\"the number {a1} is positive\")\n",
    "else:\n",
    "   print(f\"the number {A1} is negative\")"
   ]
  },
  {
   "cell_type": "code",
   "execution_count": 8,
   "id": "ad32818e-954c-428a-82ee-42d472d1458f",
   "metadata": {},
   "outputs": [
    {
     "name": "stdout",
     "output_type": "stream",
     "text": [
      "the -9 is negative\n"
     ]
    }
   ],
   "source": [
    "if int (b1) >= 0:\n",
    "    print(f\" the {b1} is positive\")\n",
    "else:\n",
    "    print(f\"the {b1} is negative\")"
   ]
  },
  {
   "cell_type": "markdown",
   "id": "d2a4a483-0b71-49a6-9d23-2d06472b61b0",
   "metadata": {},
   "source": [
    "# voting "
   ]
  },
  {
   "cell_type": "code",
   "execution_count": 11,
   "id": "6daa0637-fae6-4427-b871-8848bc91ebd1",
   "metadata": {},
   "outputs": [
    {
     "name": "stdin",
     "output_type": "stream",
     "text": [
      " Enter your age:  17\n"
     ]
    }
   ],
   "source": [
    "c=int(input(\" Enter your age: \"))\n"
   ]
  },
  {
   "cell_type": "code",
   "execution_count": 12,
   "id": "e8929a71-a6df-4c2e-b463-36ef06da155b",
   "metadata": {},
   "outputs": [
    {
     "name": "stdout",
     "output_type": "stream",
     "text": [
      "you are not eligible to vote\n"
     ]
    }
   ],
   "source": [
    "if int (c)>=18:\n",
    "    print(f\"you are eligible to vote\")\n",
    "else:\n",
    "    print(f\"you are not eligible to vote\")"
   ]
  },
  {
   "cell_type": "markdown",
   "id": "6dd31358-b50c-4721-bfe4-149f5d6dbd7d",
   "metadata": {},
   "source": [
    "# finding the even/odd number"
   ]
  },
  {
   "cell_type": "code",
   "execution_count": 27,
   "id": "46b64883-76a6-49c1-bb62-ddb9201e145f",
   "metadata": {},
   "outputs": [
    {
     "name": "stdin",
     "output_type": "stream",
     "text": [
      "enter the number: -2\n"
     ]
    }
   ],
   "source": [
    "d= int(input (\"enter the number:\"))\n",
    "              "
   ]
  },
  {
   "cell_type": "code",
   "execution_count": 22,
   "id": "194455c2-5aeb-4fcf-aeba-c1ff4f8e1c16",
   "metadata": {},
   "outputs": [
    {
     "name": "stdout",
     "output_type": "stream",
     "text": [
      "the number is odd\n"
     ]
    }
   ],
   "source": [
    "if int (d)%2==0:\n",
    "    print(f\"the number is even\")\n",
    "else:\n",
    "    print(f\"the number is odd\")\n",
    "  "
   ]
  },
  {
   "cell_type": "markdown",
   "id": "d1ad60b3-9e94-4823-a094-922f388c8289",
   "metadata": {},
   "source": [
    "# elif"
   ]
  },
  {
   "cell_type": "code",
   "execution_count": 28,
   "id": "f3297ead-ddbc-4df4-9507-0a714e4cdab6",
   "metadata": {},
   "outputs": [
    {
     "name": "stdout",
     "output_type": "stream",
     "text": [
      "the number -2 is negative\n"
     ]
    }
   ],
   "source": [
    "if int (d)> 0:\n",
    "    print(f\"the number {d} is positive\")\n",
    "elif int (d)< 0:\n",
    "    print(f\"the number {d} is negative\")\n",
    "else:\n",
    "    print(f\"the number {d} is zero\")"
   ]
  },
  {
   "cell_type": "code",
   "execution_count": 37,
   "id": "b1e1af9e-2d8e-4b5d-99c2-d149a2855aea",
   "metadata": {},
   "outputs": [
    {
     "name": "stdin",
     "output_type": "stream",
     "text": [
      "are you suffering from fever(yes/no): yes\n",
      "are you suffering from cold(yes/no): yes\n",
      "are you return from foreign(yes/no: yes\n"
     ]
    }
   ],
   "source": [
    "a2= input(\"are you suffering from fever(yes/no):\")\n",
    "b2= input(\"are you suffering from cold(yes/no):\")\n",
    "c2 =input(\"are you return from foreign(yes/no:\")"
   ]
  },
  {
   "cell_type": "code",
   "execution_count": 42,
   "id": "6b266cbe-a6c2-41bf-a6b4-d0dcf5d9abc1",
   "metadata": {},
   "outputs": [
    {
     "name": "stdout",
     "output_type": "stream",
     "text": [
      " you are advised to be in  quarantine\n"
     ]
    }
   ],
   "source": [
    "if a2==\"yes\" and b2==\"yes\":\n",
    "    print(f\" you are advised to be in  quarantine\")\n",
    "elif a2 == \"yes\" and b2 ==\"yes\" and c2 ==\"yes\":\n",
    "    print(f\"you are advised to admit in a hospital\")\n",
    "else:\n",
    "    print(f\" you are advised to take a injection\")"
   ]
  },
  {
   "cell_type": "markdown",
   "id": "fdfbfdfa-d8dc-42d6-9800-830c97e8cf56",
   "metadata": {},
   "source": [
    "# LOOPS\n",
    "two types:\n",
    "1.for-definite\n",
    "2.while-indefinite"
   ]
  },
  {
   "cell_type": "markdown",
   "id": "2b3be887-ba23-4dd3-99fb-c109bde2ba07",
   "metadata": {},
   "source": [
    "# for"
   ]
  },
  {
   "cell_type": "code",
   "execution_count": 61,
   "id": "7a7078e5-bbed-473a-87d8-803d488bdfc9",
   "metadata": {},
   "outputs": [
    {
     "name": "stdout",
     "output_type": "stream",
     "text": [
      "dev\n",
      "dev\n"
     ]
    }
   ],
   "source": [
    "for i in range(0,2):\n",
    "    print(\"dev\")\n",
    "    "
   ]
  },
  {
   "cell_type": "code",
   "execution_count": 52,
   "id": "41067b1d-408b-4954-ac46-453723505834",
   "metadata": {},
   "outputs": [],
   "source": [
    "nnum= [1,2,3,4,5]\n",
    "s = \"THALADHONI\"\n"
   ]
  },
  {
   "cell_type": "code",
   "execution_count": 47,
   "id": "0cb3dd38-01e1-4e30-bf63-5bd91dc5c87c",
   "metadata": {},
   "outputs": [
    {
     "name": "stdout",
     "output_type": "stream",
     "text": [
      "1\n",
      "2\n",
      "3\n",
      "4\n",
      "5\n"
     ]
    }
   ],
   "source": [
    "for x in nnum:\n",
    "    print(x)\n",
    "    "
   ]
  },
  {
   "cell_type": "code",
   "execution_count": 64,
   "id": "77dbbaf3-4067-4c51-9b28-bc7152af88db",
   "metadata": {},
   "outputs": [],
   "source": [
    "li=[7,'dhoni',18,'kholi',45,'sharma']"
   ]
  },
  {
   "cell_type": "code",
   "execution_count": 65,
   "id": "db00807b-603f-4e7e-aa76-122aac09c5a8",
   "metadata": {},
   "outputs": [
    {
     "name": "stdout",
     "output_type": "stream",
     "text": [
      "7\n",
      "dhoni\n",
      "18\n",
      "kholi\n",
      "45\n",
      "sharma\n"
     ]
    }
   ],
   "source": [
    "for y in li:\n",
    "    print(y)"
   ]
  },
  {
   "cell_type": "code",
   "execution_count": 50,
   "id": "92b194ea-15d9-4cb4-9d6c-f3d4a217748d",
   "metadata": {},
   "outputs": [],
   "source": [
    "tu=(7,'dhoni',18,'kholi',45,'sharma')"
   ]
  },
  {
   "cell_type": "code",
   "execution_count": 72,
   "id": "031e21fa-bc3f-44a5-8fd7-fe9808e3d17f",
   "metadata": {},
   "outputs": [
    {
     "name": "stdout",
     "output_type": "stream",
     "text": [
      "7\n",
      "dhoni\n",
      "18\n",
      "kholi\n",
      "45\n",
      "sharma\n"
     ]
    }
   ],
   "source": [
    "for z in tu:\n",
    "    print(z)"
   ]
  },
  {
   "cell_type": "code",
   "execution_count": 53,
   "id": "3c84fabe-3b9d-4785-b5d0-4ffec82060dd",
   "metadata": {},
   "outputs": [
    {
     "name": "stdout",
     "output_type": "stream",
     "text": [
      "T\n",
      "H\n",
      "A\n",
      "L\n",
      "A\n",
      "D\n",
      "H\n",
      "O\n",
      "N\n",
      "I\n"
     ]
    }
   ],
   "source": [
    "for h in s:\n",
    "    print(h)"
   ]
  },
  {
   "cell_type": "code",
   "execution_count": 74,
   "id": "3d433749-51e8-492a-aa1c-23313b31f806",
   "metadata": {},
   "outputs": [
    {
     "name": "stdout",
     "output_type": "stream",
     "text": [
      "present in the list\n"
     ]
    }
   ],
   "source": [
    "if 'D' in s:\n",
    "    print(\"present in the list\")\n",
    "else:\n",
    "    print(\"not present in the list\")\n",
    "    \n",
    "                       "
   ]
  },
  {
   "cell_type": "code",
   "execution_count": 75,
   "id": "a2fe57a7-840c-4b5a-abd0-ae0e2879b975",
   "metadata": {},
   "outputs": [],
   "source": [
    "k=['d','e','v','i']"
   ]
  },
  {
   "cell_type": "code",
   "execution_count": 77,
   "id": "fdb48254-db9e-4467-850d-92dfac2539fa",
   "metadata": {},
   "outputs": [
    {
     "name": "stdout",
     "output_type": "stream",
     "text": [
      "not present in the list\n"
     ]
    }
   ],
   "source": [
    "if 's' in k:\n",
    "    print(\"present in the list\")\n",
    "else:\n",
    "    print(\"not present in the list\")"
   ]
  },
  {
   "cell_type": "code",
   "execution_count": 82,
   "id": "9984893b-44b2-41ad-9ad3-d4601ae4c9e9",
   "metadata": {},
   "outputs": [],
   "source": [
    "f=[1,2,3,4,5,6,7,8,9]"
   ]
  },
  {
   "cell_type": "code",
   "execution_count": 92,
   "id": "6eaa52c4-5597-4dd5-8271-f48c93d089c5",
   "metadata": {},
   "outputs": [
    {
     "name": "stdout",
     "output_type": "stream",
     "text": [
      "the number is odd\n",
      "the number is even\n",
      "the number is odd\n",
      "the number is even\n",
      "the number is odd\n",
      "the number is even\n",
      "the number is odd\n",
      "the number is even\n",
      "the number is odd\n"
     ]
    }
   ],
   "source": [
    "for val in f:\n",
    "    if val %2 == 0:\n",
    "        print(f\"the number is even\")\n",
    "    else:\n",
    "        print(f\"the number is odd\")\n",
    "  "
   ]
  },
  {
   "cell_type": "markdown",
   "id": "2f38da57-8e17-43e8-a745-094069601731",
   "metadata": {},
   "source": [
    "# NESTED FOR LOOP"
   ]
  },
  {
   "cell_type": "code",
   "execution_count": null,
   "id": "5ead4f07-4f67-4cb9-850a-1a21856d92ed",
   "metadata": {},
   "outputs": [],
   "source": [
    "for <variables> in <sequence>: #outer loop\n",
    "    <statement 1>\n",
    "    for<variables> in <sequence>: #inner loop\n",
    "    <statement 2>\n",
    "     "
   ]
  },
  {
   "cell_type": "code",
   "execution_count": 5,
   "id": "59512f06-323a-46db-ba8a-e64a8ee5df77",
   "metadata": {},
   "outputs": [
    {
     "name": "stdin",
     "output_type": "stream",
     "text": [
      "Enter the no of rows 5\n"
     ]
    },
    {
     "name": "stdout",
     "output_type": "stream",
     "text": [
      "* \n",
      "* * \n",
      "* * * \n",
      "* * * * \n",
      "* * * * * \n"
     ]
    }
   ],
   "source": [
    "rows = int(input(\"Enter the no of rows\"))\n",
    "numm = 1\n",
    "\n",
    "for i in range(1, rows+1):\n",
    "    for j in range(1,i+1):\n",
    "        print(\"*\",end = \" \")\n",
    "        numm +=1\n",
    "    print()    "
   ]
  },
  {
   "cell_type": "code",
   "execution_count": 16,
   "id": "ba81308e-14cb-4d40-b052-84bfe36e314e",
   "metadata": {},
   "outputs": [
    {
     "name": "stdin",
     "output_type": "stream",
     "text": [
      "enter the no of rows 5\n"
     ]
    }
   ],
   "source": [
    "row = int(input(\"enter the no of rows\"))\n",
    "nnumm = 1\n",
    "\n",
    "for i in range(5, row-1):\n",
    "    for j in range(5,i-1):\n",
    "        print(\"*\",end = \" \")\n",
    "        nnumm -=5\n",
    "    print()"
   ]
  },
  {
   "cell_type": "code",
   "execution_count": null,
   "id": "13a934ba-924b-41d5-a764-8d5e4aaeb0ab",
   "metadata": {},
   "outputs": [],
   "source": []
  },
  {
   "cell_type": "markdown",
   "id": "680253cf-1dff-4ddd-9294-357b5390d84a",
   "metadata": {},
   "source": [
    "# for with break statement\n"
   ]
  },
  {
   "cell_type": "code",
   "execution_count": 110,
   "id": "8ea39274-015c-4498-80da-a032d8a1187d",
   "metadata": {},
   "outputs": [
    {
     "name": "stdout",
     "output_type": "stream",
     "text": [
      "s\n",
      "t\n",
      "r\n",
      "the end\n"
     ]
    }
   ],
   "source": [
    "for val in \"string\":\n",
    "    if val ==\"i\":\n",
    "        break\n",
    "    print(val)\n",
    "print(\"the end\")"
   ]
  },
  {
   "cell_type": "markdown",
   "id": "82c4f377-dd74-4d7a-9168-92abcf5967ad",
   "metadata": {},
   "source": [
    "# for with continue statement"
   ]
  },
  {
   "cell_type": "code",
   "execution_count": 112,
   "id": "d2980310-abf3-4c7f-b345-d1a5f8cc0612",
   "metadata": {},
   "outputs": [
    {
     "name": "stdout",
     "output_type": "stream",
     "text": [
      "1\n",
      "2\n",
      "3\n",
      "4\n",
      "6\n",
      "7\n"
     ]
    }
   ],
   "source": [
    "numm2=[1,2,3,4,5,6,7]\n",
    "for val in numm2:\n",
    "    if val%5==0:\n",
    "        continue\n",
    "    print(val)"
   ]
  },
  {
   "cell_type": "markdown",
   "id": "c487c28d-dfa4-480b-8b0d-df90e342e7b3",
   "metadata": {},
   "source": [
    "# while loop"
   ]
  },
  {
   "cell_type": "code",
   "execution_count": null,
   "id": "12bdbe6b-4d0a-4009-b075-a45df9a4e17d",
   "metadata": {},
   "outputs": [],
   "source": [
    "while<expressions>:\n",
    "    <statement(s)>"
   ]
  },
  {
   "cell_type": "code",
   "execution_count": null,
   "id": "873be40a-a748-44f7-be31-730ce29f2477",
   "metadata": {},
   "outputs": [],
   "source": [
    "n =int(input('Enter the limit: '))\n",
    "i=0\n",
    "while i < n:\n",
    "    print(i)\n",
    "    i\n",
    "    i +=1\n",
    "    \n"
   ]
  },
  {
   "cell_type": "code",
   "execution_count": 5,
   "id": "4d900569-3016-474d-a4ac-3724cb22c719",
   "metadata": {},
   "outputs": [
    {
     "ename": "SyntaxError",
     "evalue": "invalid syntax (1879788443.py, line 2)",
     "output_type": "error",
     "traceback": [
      "\u001b[1;36m  Cell \u001b[1;32mIn[5], line 2\u001b[1;36m\u001b[0m\n\u001b[1;33m    while count = 0:\u001b[0m\n\u001b[1;37m                ^\u001b[0m\n\u001b[1;31mSyntaxError\u001b[0m\u001b[1;31m:\u001b[0m invalid syntax\n"
     ]
    }
   ],
   "source": [
    "count=0\n",
    "while count = 0:\n",
    "    if count <5:\n",
    "        print('dev')\n",
    "    else:\n",
    "        print('kavz')\n",
    " "
   ]
  },
  {
   "cell_type": "markdown",
   "id": "f856bda7-03dd-48a6-8479-85b9916b1916",
   "metadata": {},
   "source": [
    "# while with break statement"
   ]
  },
  {
   "cell_type": "code",
   "execution_count": 2,
   "id": "23a71435-96cc-430e-80de-8b7b427a02ed",
   "metadata": {},
   "outputs": [
    {
     "name": "stdout",
     "output_type": "stream",
     "text": [
      "0\n",
      "1\n",
      "2\n",
      "3\n",
      "4\n"
     ]
    }
   ],
   "source": [
    "count = 0\n",
    "while True:\n",
    "    print ( count )\n",
    "    count +=1\n",
    "    if count == 5:\n",
    "        break"
   ]
  },
  {
   "cell_type": "markdown",
   "id": "4250b357-bc8d-46a1-93fe-4ba3d6a385ef",
   "metadata": {},
   "source": [
    "# while with continue statement\n"
   ]
  },
  {
   "cell_type": "code",
   "execution_count": 6,
   "id": "840e5ea0-18d7-4fa7-8961-7ff9f96abeec",
   "metadata": {},
   "outputs": [
    {
     "name": "stdout",
     "output_type": "stream",
     "text": [
      "1\n",
      "2\n",
      "4\n",
      "5\n",
      "6\n"
     ]
    }
   ],
   "source": [
    "i = 0\n",
    "while i < 6:\n",
    "    i +=1\n",
    "    if i==3:\n",
    "        continue\n",
    "    print(i)"
   ]
  },
  {
   "cell_type": "code",
   "execution_count": 2,
   "id": "d4470ea3-e4b7-4678-b9d6-2da582b697be",
   "metadata": {},
   "outputs": [
    {
     "name": "stdin",
     "output_type": "stream",
     "text": [
      "enter the limit:  10\n"
     ]
    },
    {
     "name": "stdout",
     "output_type": "stream",
     "text": [
      "0 1 1 2 3 5 8 "
     ]
    }
   ],
   "source": [
    "a = 0\n",
    "b = 1\n",
    "n = int(input(\"enter the limit: \"))\n",
    "while a < n:\n",
    "    print(a, end=' ')\n",
    "    a,b = b,a+b"
   ]
  },
  {
   "cell_type": "markdown",
   "id": "c4d4377a-c8f3-48db-ae26-60e45eb46715",
   "metadata": {},
   "source": [
    "# FUNCTIONS"
   ]
  },
  {
   "cell_type": "code",
   "execution_count": null,
   "id": "cdc58aac-9c6f-48c2-ba9b-890802d55d9b",
   "metadata": {},
   "outputs": [],
   "source": [
    "def < function_name >(parameters):\n",
    "    doc string\n",
    "    <statement(s)>"
   ]
  },
  {
   "cell_type": "code",
   "execution_count": null,
   "id": "9d623427-6476-4072-96fe-fcdfba9cd4a1",
   "metadata": {},
   "outputs": [],
   "source": [
    "def sayhello():\n",
    "    print('hello')"
   ]
  },
  {
   "cell_type": "code",
   "execution_count": 14,
   "id": "60f8aeeb-f375-4222-8333-8a5ca73e6f68",
   "metadata": {},
   "outputs": [],
   "source": [
    "def user(name,age):\n",
    "    print(f'my name is \"{name} \"and my age is\"{age}\":')"
   ]
  },
  {
   "cell_type": "code",
   "execution_count": 15,
   "id": "84259524-45ff-4c53-9435-96b5ae1c9178",
   "metadata": {},
   "outputs": [
    {
     "name": "stdin",
     "output_type": "stream",
     "text": [
      "enter your name: dev\n",
      "enter your age: 20\n"
     ]
    },
    {
     "name": "stdout",
     "output_type": "stream",
     "text": [
      "my name is \"dev \"and my age is\"20\":\n"
     ]
    }
   ],
   "source": [
    "name=input(\"enter your name:\")\n",
    "age=int(input(\"enter your age:\"))\n",
    "user(name,age)\n",
    "\n"
   ]
  },
  {
   "cell_type": "markdown",
   "id": "8b883330-4cfa-4ca6-8ead-7dd0b6dba6be",
   "metadata": {},
   "source": [
    "# even number"
   ]
  },
  {
   "cell_type": "code",
   "execution_count": 27,
   "id": "3af9dc2d-160f-424f-98d9-20622053c7fc",
   "metadata": {},
   "outputs": [],
   "source": [
    "def filter_even(number_list):\n",
    "    result_list=[]\n",
    "    for number in number_list:\n",
    "        if number %2 == 0:\n",
    "            result_list.append (number)\n",
    "    return result_list"
   ]
  },
  {
   "cell_type": "code",
   "execution_count": 34,
   "id": "962e1a4d-68d1-4b1f-9221-749ebfd707ad",
   "metadata": {},
   "outputs": [
    {
     "data": {
      "text/plain": [
       "[2, 4, 6, 8, 10]"
      ]
     },
     "execution_count": 34,
     "metadata": {},
     "output_type": "execute_result"
    }
   ],
   "source": [
    "even_list = filter_even([1,2,3,4,5,6,7,8,9,10])\n",
    "even_list"
   ]
  },
  {
   "cell_type": "markdown",
   "id": "0828e6b6-831f-4bea-8af2-c5938dc5d067",
   "metadata": {},
   "source": [
    "# remove duplicate"
   ]
  },
  {
   "cell_type": "code",
   "execution_count": 55,
   "id": "6a937949-8ed5-4085-9f1d-eade9af8fa8a",
   "metadata": {},
   "outputs": [],
   "source": [
    "def find_duplicate(list):\n",
    "    result=[]\n",
    "    for number in list:\n",
    "        if number not in result:\n",
    "            result.append(number)\n",
    "    return result"
   ]
  },
  {
   "cell_type": "code",
   "execution_count": 56,
   "id": "67c01041-3f53-4d1b-a280-973032554bf7",
   "metadata": {},
   "outputs": [
    {
     "data": {
      "text/plain": [
       "[2, 4, 3, 5, 6, 8]"
      ]
     },
     "execution_count": 56,
     "metadata": {},
     "output_type": "execute_result"
    }
   ],
   "source": [
    "duplicate_list = find_duplicate([2,4,2,3,5,6,8,4])\n",
    "duplicate_list\n"
   ]
  },
  {
   "cell_type": "code",
   "execution_count": null,
   "id": "0d96af66-a477-48d7-ad74-b8107e23cff9",
   "metadata": {},
   "outputs": [],
   "source": []
  }
 ],
 "metadata": {
  "kernelspec": {
   "display_name": "Python 3 (ipykernel)",
   "language": "python",
   "name": "python3"
  },
  "language_info": {
   "codemirror_mode": {
    "name": "ipython",
    "version": 3
   },
   "file_extension": ".py",
   "mimetype": "text/x-python",
   "name": "python",
   "nbconvert_exporter": "python",
   "pygments_lexer": "ipython3",
   "version": "3.9.19"
  }
 },
 "nbformat": 4,
 "nbformat_minor": 5
}
