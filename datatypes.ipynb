{
 "cells": [
  {
   "cell_type": "markdown",
   "id": "dda03e67-5674-4730-aedf-120aefbbc6b7",
   "metadata": {},
   "source": [
    "# Data Types in python\n",
    "\n",
    "1.  Numeric - Int, Float, Complex\n",
    "2.  String [String/Character]- Str\n",
    "3.  Sequence - List, Tuples ,Range, Array\n",
    "4.  Mapping - Dictionary\n",
    "5.  Set -Set, Frozen set\n",
    "6.  Boolean- bool\n",
    "7.  Binary - Byte, Byte array, Memory view"
   ]
  },
  {
   "cell_type": "code",
   "execution_count": 1,
   "id": "6271f56f-526b-4e82-8c46-301541e88509",
   "metadata": {},
   "outputs": [],
   "source": [
    "# Numeric\n",
    "Reg_no=158"
   ]
  },
  {
   "cell_type": "code",
   "execution_count": 2,
   "id": "4c00721c-a2d5-47d1-a5ac-a122a151d4d5",
   "metadata": {},
   "outputs": [
    {
     "data": {
      "text/plain": [
       "int"
      ]
     },
     "execution_count": 2,
     "metadata": {},
     "output_type": "execute_result"
    }
   ],
   "source": [
    "type(Reg_no)"
   ]
  },
  {
   "cell_type": "code",
   "execution_count": 3,
   "id": "29ec562a-82a1-4fec-94c3-4b19b2a5949c",
   "metadata": {},
   "outputs": [],
   "source": [
    "Salary=5000.70"
   ]
  },
  {
   "cell_type": "code",
   "execution_count": 4,
   "id": "648fb8c2-71f1-4f61-9cfe-2736c16499b6",
   "metadata": {},
   "outputs": [
    {
     "data": {
      "text/plain": [
       "float"
      ]
     },
     "execution_count": 4,
     "metadata": {},
     "output_type": "execute_result"
    }
   ],
   "source": [
    "type(Salary)"
   ]
  },
  {
   "cell_type": "code",
   "execution_count": 5,
   "id": "b62ce37b-9ff1-4702-a534-f9f90b96daf0",
   "metadata": {},
   "outputs": [],
   "source": [
    "comp=2+1j"
   ]
  },
  {
   "cell_type": "code",
   "execution_count": 6,
   "id": "03562a70-6cc3-4a68-83e2-62b7c3036cb2",
   "metadata": {},
   "outputs": [
    {
     "data": {
      "text/plain": [
       "complex"
      ]
     },
     "execution_count": 6,
     "metadata": {},
     "output_type": "execute_result"
    }
   ],
   "source": [
    "type(comp)"
   ]
  },
  {
   "cell_type": "code",
   "execution_count": 16,
   "id": "8e039ece-91e7-40cc-a2a8-28c26bd2ed67",
   "metadata": {},
   "outputs": [],
   "source": [
    "# string\n",
    "Name ='\"Dev\" learns \"python\"'"
   ]
  },
  {
   "cell_type": "code",
   "execution_count": 15,
   "id": "7d073c55-b2a4-4fdf-8e08-530fac391989",
   "metadata": {},
   "outputs": [
    {
     "data": {
      "text/plain": [
       "str"
      ]
     },
     "execution_count": 15,
     "metadata": {},
     "output_type": "execute_result"
    }
   ],
   "source": [
    "type(Name)"
   ]
  },
  {
   "cell_type": "code",
   "execution_count": 17,
   "id": "eff0e3a9-3231-4239-af85-648cdbd19653",
   "metadata": {},
   "outputs": [],
   "source": [
    "# Sequence \n",
    "# list\n",
    "lis=[1,3,4,\"D\",5+2j]\n"
   ]
  },
  {
   "cell_type": "code",
   "execution_count": 18,
   "id": "0f9b4523-44ab-4f49-97e0-36d50b3ff47a",
   "metadata": {},
   "outputs": [
    {
     "data": {
      "text/plain": [
       "list"
      ]
     },
     "execution_count": 18,
     "metadata": {},
     "output_type": "execute_result"
    }
   ],
   "source": [
    "type(lis)"
   ]
  },
  {
   "cell_type": "markdown",
   "id": "5de88066",
   "metadata": {},
   "source": [
    "# charateristics of list\n",
    "1. List can hold multiple data types.\n",
    "2. lists are mutable(pop,remove,append)\n",
    "3. list can hold another list"
   ]
  },
  {
   "cell_type": "code",
   "execution_count": 58,
   "id": "cd86abcb",
   "metadata": {},
   "outputs": [],
   "source": [
    "List=['d',7,\"DHONI\",42+7j,'v',18,\"VIRAT\",32+28j]\n",
    "\n"
   ]
  },
  {
   "cell_type": "code",
   "execution_count": 15,
   "id": "446dd140",
   "metadata": {},
   "outputs": [
    {
     "data": {
      "text/plain": [
       "4"
      ]
     },
     "execution_count": 15,
     "metadata": {},
     "output_type": "execute_result"
    }
   ],
   "source": [
    "len(List)"
   ]
  },
  {
   "cell_type": "code",
   "execution_count": 27,
   "id": "f401945f",
   "metadata": {},
   "outputs": [
    {
     "data": {
      "text/plain": [
       "['d', 7, 'DHONI', (42+7j)]"
      ]
     },
     "execution_count": 27,
     "metadata": {},
     "output_type": "execute_result"
    }
   ],
   "source": [
    "List[0]"
   ]
  },
  {
   "cell_type": "code",
   "execution_count": 59,
   "id": "054d8cc7",
   "metadata": {},
   "outputs": [
    {
     "data": {
      "text/plain": [
       "7"
      ]
     },
     "execution_count": 59,
     "metadata": {},
     "output_type": "execute_result"
    }
   ],
   "source": [
    "List[1]"
   ]
  },
  {
   "cell_type": "code",
   "execution_count": 18,
   "id": "dbde3bde",
   "metadata": {},
   "outputs": [],
   "source": [
    "List[0]='D'\n"
   ]
  },
  {
   "cell_type": "code",
   "execution_count": 60,
   "id": "61f2e8f8",
   "metadata": {},
   "outputs": [
    {
     "data": {
      "text/plain": [
       "['d', 7, 'DHONI', (42+7j), 'v', 18, 'VIRAT', (32+28j)]"
      ]
     },
     "execution_count": 60,
     "metadata": {},
     "output_type": "execute_result"
    }
   ],
   "source": [
    "List"
   ]
  },
  {
   "cell_type": "code",
   "execution_count": 33,
   "id": "d0584863",
   "metadata": {},
   "outputs": [
    {
     "data": {
      "text/plain": [
       "(32+28j)"
      ]
     },
     "execution_count": 33,
     "metadata": {},
     "output_type": "execute_result"
    }
   ],
   "source": [
    "List.pop()"
   ]
  },
  {
   "cell_type": "code",
   "execution_count": 61,
   "id": "6a86533f",
   "metadata": {},
   "outputs": [
    {
     "data": {
      "text/plain": [
       "['d', 7, 'DHONI', (42+7j), 'v', 18, 'VIRAT', (32+28j)]"
      ]
     },
     "execution_count": 61,
     "metadata": {},
     "output_type": "execute_result"
    }
   ],
   "source": [
    "List"
   ]
  },
  {
   "cell_type": "code",
   "execution_count": 31,
   "id": "16ac3034",
   "metadata": {},
   "outputs": [],
   "source": [
    "List.remove('d')"
   ]
  },
  {
   "cell_type": "code",
   "execution_count": 62,
   "id": "ef836cf3",
   "metadata": {},
   "outputs": [
    {
     "data": {
      "text/plain": [
       "['d', 7, 'DHONI', (42+7j), 'v', 18, 'VIRAT', (32+28j)]"
      ]
     },
     "execution_count": 62,
     "metadata": {},
     "output_type": "execute_result"
    }
   ],
   "source": [
    "List"
   ]
  },
  {
   "cell_type": "code",
   "execution_count": 36,
   "id": "e083e3ff",
   "metadata": {},
   "outputs": [],
   "source": [
    "List.append('d')\n"
   ]
  },
  {
   "cell_type": "code",
   "execution_count": 63,
   "id": "e8680610",
   "metadata": {},
   "outputs": [
    {
     "data": {
      "text/plain": [
       "['d', 7, 'DHONI', (42+7j), 'v', 18, 'VIRAT', (32+28j)]"
      ]
     },
     "execution_count": 63,
     "metadata": {},
     "output_type": "execute_result"
    }
   ],
   "source": [
    "List\n"
   ]
  },
  {
   "cell_type": "markdown",
   "id": "6262892d",
   "metadata": {},
   "source": [
    "# tuple\n",
    "# characteristics of tuple\n",
    "1. Tuple is immutable.\n",
    "2. In tuple we use normal bracket.\n",
    "3. tuple holds multiple data types\n"
   ]
  },
  {
   "cell_type": "code",
   "execution_count": 41,
   "id": "11e7f2b9",
   "metadata": {},
   "outputs": [],
   "source": [
    "d=(158,'dev',18+9j,)"
   ]
  },
  {
   "cell_type": "code",
   "execution_count": 42,
   "id": "94880184",
   "metadata": {},
   "outputs": [
    {
     "data": {
      "text/plain": [
       "tuple"
      ]
     },
     "execution_count": 42,
     "metadata": {},
     "output_type": "execute_result"
    }
   ],
   "source": [
    "type(d)"
   ]
  },
  {
   "cell_type": "code",
   "execution_count": 43,
   "id": "7fbe946b",
   "metadata": {},
   "outputs": [
    {
     "data": {
      "text/plain": [
       "(158, 'dev', (18+9j))"
      ]
     },
     "execution_count": 43,
     "metadata": {},
     "output_type": "execute_result"
    }
   ],
   "source": [
    "d"
   ]
  },
  {
   "cell_type": "code",
   "execution_count": 44,
   "id": "c4e69947",
   "metadata": {},
   "outputs": [
    {
     "ename": "AttributeError",
     "evalue": "'tuple' object has no attribute 'append'",
     "output_type": "error",
     "traceback": [
      "\u001b[1;31m---------------------------------------------------------------------------\u001b[0m",
      "\u001b[1;31mAttributeError\u001b[0m                            Traceback (most recent call last)",
      "\u001b[1;32m~\\AppData\\Local\\Temp\\ipykernel_1296\\2304011819.py\u001b[0m in \u001b[0;36m<module>\u001b[1;34m\u001b[0m\n\u001b[1;32m----> 1\u001b[1;33m \u001b[0md\u001b[0m\u001b[1;33m.\u001b[0m\u001b[0mappend\u001b[0m\u001b[1;33m(\u001b[0m\u001b[1;34m'sree'\u001b[0m\u001b[1;33m)\u001b[0m\u001b[1;33m\u001b[0m\u001b[1;33m\u001b[0m\u001b[0m\n\u001b[0m",
      "\u001b[1;31mAttributeError\u001b[0m: 'tuple' object has no attribute 'append'"
     ]
    }
   ],
   "source": [
    "d.append('sree')"
   ]
  },
  {
   "cell_type": "code",
   "execution_count": 45,
   "id": "793b1dd6",
   "metadata": {},
   "outputs": [
    {
     "data": {
      "text/plain": [
       "'dev'"
      ]
     },
     "execution_count": 45,
     "metadata": {},
     "output_type": "execute_result"
    }
   ],
   "source": [
    "d[1]\n"
   ]
  },
  {
   "cell_type": "markdown",
   "id": "ecfed818",
   "metadata": {},
   "source": [
    "# Range\n"
   ]
  },
  {
   "cell_type": "code",
   "execution_count": 6,
   "id": "53ffedbe",
   "metadata": {},
   "outputs": [],
   "source": [
    "e=range(0,20,4)"
   ]
  },
  {
   "cell_type": "code",
   "execution_count": 7,
   "id": "19b4e748",
   "metadata": {},
   "outputs": [
    {
     "data": {
      "text/plain": [
       "range(0, 20, 4)"
      ]
     },
     "execution_count": 7,
     "metadata": {},
     "output_type": "execute_result"
    }
   ],
   "source": [
    "e"
   ]
  },
  {
   "cell_type": "code",
   "execution_count": 8,
   "id": "587bd92c",
   "metadata": {},
   "outputs": [
    {
     "data": {
      "text/plain": [
       "range"
      ]
     },
     "execution_count": 8,
     "metadata": {},
     "output_type": "execute_result"
    }
   ],
   "source": [
    "type(e)"
   ]
  },
  {
   "cell_type": "code",
   "execution_count": 9,
   "id": "c018362e",
   "metadata": {},
   "outputs": [
    {
     "data": {
      "text/plain": [
       "[0, 4, 8, 12, 16]"
      ]
     },
     "execution_count": 9,
     "metadata": {},
     "output_type": "execute_result"
    }
   ],
   "source": [
    "list(e)"
   ]
  },
  {
   "cell_type": "markdown",
   "id": "2a93e9d3",
   "metadata": {},
   "source": [
    "# array\n",
    "1. hold single data types\n",
    "2. its mutable\n",
    "3. its suppports minus index"
   ]
  },
  {
   "cell_type": "code",
   "execution_count": 10,
   "id": "1a17de16",
   "metadata": {},
   "outputs": [
    {
     "ename": "NameError",
     "evalue": "name 'array' is not defined",
     "output_type": "error",
     "traceback": [
      "\u001b[1;31m---------------------------------------------------------------------------\u001b[0m",
      "\u001b[1;31mNameError\u001b[0m                                 Traceback (most recent call last)",
      "\u001b[1;32m~\\AppData\\Local\\Temp\\ipykernel_8936\\4101377154.py\u001b[0m in \u001b[0;36m<module>\u001b[1;34m\u001b[0m\n\u001b[1;32m----> 1\u001b[1;33m \u001b[0ma\u001b[0m\u001b[1;33m=\u001b[0m\u001b[0marray\u001b[0m\u001b[1;33m[\u001b[0m\u001b[1;36m1\u001b[0m\u001b[1;33m,\u001b[0m\u001b[1;36m2\u001b[0m\u001b[1;33m,\u001b[0m\u001b[1;36m3\u001b[0m\u001b[1;33m,\u001b[0m\u001b[1;36m4\u001b[0m\u001b[1;33m,\u001b[0m\u001b[1;36m5\u001b[0m\u001b[1;33m]\u001b[0m\u001b[1;33m\u001b[0m\u001b[1;33m\u001b[0m\u001b[0m\n\u001b[0m",
      "\u001b[1;31mNameError\u001b[0m: name 'array' is not defined"
     ]
    }
   ],
   "source": [
    "a=array[1,2,3,4,5]"
   ]
  },
  {
   "cell_type": "code",
   "execution_count": 1,
   "id": "86472dbf",
   "metadata": {},
   "outputs": [],
   "source": [
    "import array "
   ]
  },
  {
   "cell_type": "code",
   "execution_count": 2,
   "id": "fded4871",
   "metadata": {},
   "outputs": [],
   "source": [
    "arr=array.array('i',[157,158,167,171])"
   ]
  },
  {
   "cell_type": "code",
   "execution_count": 3,
   "id": "19ecf31a",
   "metadata": {},
   "outputs": [
    {
     "data": {
      "text/plain": [
       "array.array"
      ]
     },
     "execution_count": 3,
     "metadata": {},
     "output_type": "execute_result"
    }
   ],
   "source": [
    "type(arr)"
   ]
  },
  {
   "cell_type": "raw",
   "id": "4524d55b",
   "metadata": {},
   "source": []
  },
  {
   "cell_type": "code",
   "execution_count": 5,
   "id": "08f50f60",
   "metadata": {},
   "outputs": [],
   "source": [
    "arr[2]=400\n"
   ]
  },
  {
   "cell_type": "code",
   "execution_count": 6,
   "id": "d929bb2c",
   "metadata": {},
   "outputs": [
    {
     "data": {
      "text/plain": [
       "array('i', [157, 158, 400, 171])"
      ]
     },
     "execution_count": 6,
     "metadata": {},
     "output_type": "execute_result"
    }
   ],
   "source": [
    "arr"
   ]
  },
  {
   "cell_type": "code",
   "execution_count": 7,
   "id": "2843ed88",
   "metadata": {},
   "outputs": [
    {
     "data": {
      "text/plain": [
       "4"
      ]
     },
     "execution_count": 7,
     "metadata": {},
     "output_type": "execute_result"
    }
   ],
   "source": [
    "len(arr)"
   ]
  },
  {
   "cell_type": "code",
   "execution_count": 8,
   "id": "e2e69838",
   "metadata": {},
   "outputs": [],
   "source": [
    "arr.append(182)"
   ]
  },
  {
   "cell_type": "code",
   "execution_count": 9,
   "id": "f3683bb7",
   "metadata": {},
   "outputs": [
    {
     "data": {
      "text/plain": [
       "array('i', [157, 158, 400, 171, 182])"
      ]
     },
     "execution_count": 9,
     "metadata": {},
     "output_type": "execute_result"
    }
   ],
   "source": [
    "arr"
   ]
  },
  {
   "cell_type": "code",
   "execution_count": 10,
   "id": "bd5ee278",
   "metadata": {},
   "outputs": [],
   "source": [
    "arr[0]=167"
   ]
  },
  {
   "cell_type": "code",
   "execution_count": 11,
   "id": "ba9059e3",
   "metadata": {},
   "outputs": [
    {
     "data": {
      "text/plain": [
       "array('i', [167, 158, 400, 171, 182])"
      ]
     },
     "execution_count": 11,
     "metadata": {},
     "output_type": "execute_result"
    }
   ],
   "source": [
    "arr"
   ]
  },
  {
   "cell_type": "code",
   "execution_count": 12,
   "id": "dc1c08a3",
   "metadata": {},
   "outputs": [
    {
     "data": {
      "text/plain": [
       "array('i', [158, 400])"
      ]
     },
     "execution_count": 12,
     "metadata": {},
     "output_type": "execute_result"
    }
   ],
   "source": [
    "arr[1:3]"
   ]
  },
  {
   "cell_type": "code",
   "execution_count": 15,
   "id": "ea9570f6",
   "metadata": {},
   "outputs": [],
   "source": [
    "arr1=[10,20,50,700,500,600,78,65,95]"
   ]
  },
  {
   "cell_type": "code",
   "execution_count": 16,
   "id": "1f5e8c08",
   "metadata": {},
   "outputs": [
    {
     "data": {
      "text/plain": [
       "[20, 50, 700]"
      ]
     },
     "execution_count": 16,
     "metadata": {},
     "output_type": "execute_result"
    }
   ],
   "source": [
    "arr1[1:4]"
   ]
  },
  {
   "cell_type": "raw",
   "id": "891ca20f",
   "metadata": {},
   "source": []
  },
  {
   "cell_type": "code",
   "execution_count": 17,
   "id": "6f9fc881",
   "metadata": {},
   "outputs": [
    {
     "data": {
      "text/plain": [
       "[600, 78, 65]"
      ]
     },
     "execution_count": 17,
     "metadata": {},
     "output_type": "execute_result"
    }
   ],
   "source": [
    "arr1[5:8]"
   ]
  },
  {
   "cell_type": "code",
   "execution_count": 18,
   "id": "64833e66",
   "metadata": {},
   "outputs": [
    {
     "data": {
      "text/plain": [
       "[600, 78, 65, 95]"
      ]
     },
     "execution_count": 18,
     "metadata": {},
     "output_type": "execute_result"
    }
   ],
   "source": [
    "arr1[5:9]"
   ]
  },
  {
   "cell_type": "code",
   "execution_count": 19,
   "id": "4123dbdc",
   "metadata": {},
   "outputs": [
    {
     "data": {
      "text/plain": [
       "[10, 50, 500, 78, 95]"
      ]
     },
     "execution_count": 19,
     "metadata": {},
     "output_type": "execute_result"
    }
   ],
   "source": [
    "#skip\n",
    "arr1[0::2]"
   ]
  },
  {
   "cell_type": "code",
   "execution_count": 20,
   "id": "81b814aa",
   "metadata": {},
   "outputs": [
    {
     "data": {
      "text/plain": [
       "[95, 65, 78, 600, 500, 700, 50, 20, 10]"
      ]
     },
     "execution_count": 20,
     "metadata": {},
     "output_type": "execute_result"
    }
   ],
   "source": [
    "#reverse\n",
    "arr1[::-1]"
   ]
  },
  {
   "cell_type": "code",
   "execution_count": 24,
   "id": "24aafd86",
   "metadata": {},
   "outputs": [],
   "source": [
    "#list\n",
    "List2=[10,\"hello\",30.5,\"true\"]"
   ]
  },
  {
   "cell_type": "code",
   "execution_count": 27,
   "id": "1e34ec0b",
   "metadata": {},
   "outputs": [
    {
     "data": {
      "text/plain": [
       "[10, 'hello']"
      ]
     },
     "execution_count": 27,
     "metadata": {},
     "output_type": "execute_result"
    }
   ],
   "source": [
    "List2[0:2]"
   ]
  },
  {
   "cell_type": "code",
   "execution_count": 29,
   "id": "869ec483",
   "metadata": {},
   "outputs": [
    {
     "data": {
      "text/plain": [
       "[10, 'hello', 30.5]"
      ]
     },
     "execution_count": 29,
     "metadata": {},
     "output_type": "execute_result"
    }
   ],
   "source": [
    "List2[0:3]"
   ]
  },
  {
   "cell_type": "code",
   "execution_count": 30,
   "id": "5ac6ebc9",
   "metadata": {},
   "outputs": [],
   "source": [
    "#tuple\n",
    "dd=(10,\"hlo\",40.5,\"true\")"
   ]
  },
  {
   "cell_type": "code",
   "execution_count": 31,
   "id": "25622882",
   "metadata": {},
   "outputs": [
    {
     "data": {
      "text/plain": [
       "(10, 'hlo', 40.5, 'true')"
      ]
     },
     "execution_count": 31,
     "metadata": {},
     "output_type": "execute_result"
    }
   ],
   "source": [
    "dd[0:]"
   ]
  },
  {
   "cell_type": "markdown",
   "id": "21ed2d32",
   "metadata": {},
   "source": [
    "# set\n",
    "1. its an unorder datatype\n",
    "2. it stores any datatype and its mutuable\n",
    "3. it can't allow duplicate values"
   ]
  },
  {
   "cell_type": "code",
   "execution_count": 33,
   "id": "8515f2b4",
   "metadata": {},
   "outputs": [],
   "source": [
    "a1 ={10,20,5,'python','true'}"
   ]
  },
  {
   "cell_type": "code",
   "execution_count": 34,
   "id": "8e928b50",
   "metadata": {},
   "outputs": [
    {
     "data": {
      "text/plain": [
       "set"
      ]
     },
     "execution_count": 34,
     "metadata": {},
     "output_type": "execute_result"
    }
   ],
   "source": [
    "type(a1)"
   ]
  },
  {
   "cell_type": "code",
   "execution_count": 35,
   "id": "2da23807",
   "metadata": {},
   "outputs": [],
   "source": [
    "a1.add(400)"
   ]
  },
  {
   "cell_type": "code",
   "execution_count": 36,
   "id": "2349e4b3",
   "metadata": {},
   "outputs": [
    {
     "data": {
      "text/plain": [
       "{10, 20, 400, 5, 'python', 'true'}"
      ]
     },
     "execution_count": 36,
     "metadata": {},
     "output_type": "execute_result"
    }
   ],
   "source": [
    "a1"
   ]
  },
  {
   "cell_type": "code",
   "execution_count": 39,
   "id": "683f9562",
   "metadata": {},
   "outputs": [
    {
     "ename": "KeyError",
     "evalue": "'true'",
     "output_type": "error",
     "traceback": [
      "\u001b[1;31m---------------------------------------------------------------------------\u001b[0m",
      "\u001b[1;31mKeyError\u001b[0m                                  Traceback (most recent call last)",
      "\u001b[1;32m~\\AppData\\Local\\Temp\\ipykernel_10852\\734999733.py\u001b[0m in \u001b[0;36m<module>\u001b[1;34m\u001b[0m\n\u001b[1;32m----> 1\u001b[1;33m \u001b[0ma1\u001b[0m\u001b[1;33m.\u001b[0m\u001b[0mremove\u001b[0m\u001b[1;33m(\u001b[0m\u001b[1;34m'true'\u001b[0m\u001b[1;33m)\u001b[0m\u001b[1;33m\u001b[0m\u001b[1;33m\u001b[0m\u001b[0m\n\u001b[0m",
      "\u001b[1;31mKeyError\u001b[0m: 'true'"
     ]
    }
   ],
   "source": [
    "a1.remove('true')"
   ]
  },
  {
   "cell_type": "markdown",
   "id": "e8e96c32",
   "metadata": {},
   "source": []
  },
  {
   "cell_type": "code",
   "execution_count": 38,
   "id": "b9429df6",
   "metadata": {},
   "outputs": [
    {
     "data": {
      "text/plain": [
       "{10, 20, 400, 5, 'python'}"
      ]
     },
     "execution_count": 38,
     "metadata": {},
     "output_type": "execute_result"
    }
   ],
   "source": [
    "a1"
   ]
  },
  {
   "cell_type": "code",
   "execution_count": null,
   "id": "e550b5a0",
   "metadata": {},
   "outputs": [],
   "source": [
    "a1.discard(6)"
   ]
  },
  {
   "cell_type": "code",
   "execution_count": 40,
   "id": "559d3543",
   "metadata": {},
   "outputs": [
    {
     "data": {
      "text/plain": [
       "{10, 20, 400, 5, 'python'}"
      ]
     },
     "execution_count": 40,
     "metadata": {},
     "output_type": "execute_result"
    }
   ],
   "source": [
    "a1"
   ]
  },
  {
   "cell_type": "code",
   "execution_count": 41,
   "id": "12bc6142",
   "metadata": {},
   "outputs": [],
   "source": [
    "a2=(100,200,'welcome')"
   ]
  },
  {
   "cell_type": "markdown",
   "id": "e8a58c33",
   "metadata": {},
   "source": [
    "a1.update(a2)"
   ]
  },
  {
   "cell_type": "code",
   "execution_count": 42,
   "id": "79206149",
   "metadata": {},
   "outputs": [
    {
     "data": {
      "text/plain": [
       "{10, 20, 400, 5, 'python'}"
      ]
     },
     "execution_count": 42,
     "metadata": {},
     "output_type": "execute_result"
    }
   ],
   "source": [
    "a1"
   ]
  },
  {
   "cell_type": "markdown",
   "id": "66df1ea8-a60f-4233-b330-d9fa078abc04",
   "metadata": {},
   "source": [
    "# Dictionary\n",
    "1 keys are immutable.\n",
    "2 values are mutable.\n"
   ]
  },
  {
   "cell_type": "code",
   "execution_count": 46,
   "id": "a6596c3b",
   "metadata": {},
   "outputs": [],
   "source": [
    "course={1:\"java\",2:\"python\",3:\"html\",4:\"c\"}"
   ]
  },
  {
   "cell_type": "code",
   "execution_count": 47,
   "id": "0fdcb1c4",
   "metadata": {},
   "outputs": [
    {
     "data": {
      "text/plain": [
       "dict"
      ]
     },
     "execution_count": 47,
     "metadata": {},
     "output_type": "execute_result"
    }
   ],
   "source": [
    "type(course)"
   ]
  },
  {
   "cell_type": "code",
   "execution_count": null,
   "id": "18e5b50a",
   "metadata": {},
   "outputs": [],
   "source": []
  }
 ],
 "metadata": {
  "kernelspec": {
   "display_name": "Python 3 (ipykernel)",
   "language": "python",
   "name": "python3"
  },
  "language_info": {
   "codemirror_mode": {
    "name": "ipython",
    "version": 3
   },
   "file_extension": ".py",
   "mimetype": "text/x-python",
   "name": "python",
   "nbconvert_exporter": "python",
   "pygments_lexer": "ipython3",
   "version": "3.9.19"
  }
 },
 "nbformat": 4,
 "nbformat_minor": 5
}
