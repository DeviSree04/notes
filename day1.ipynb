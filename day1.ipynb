{
 "cells": [
  {
   "cell_type": "code",
   "execution_count": 2,
   "id": "bce53943-2a88-4ef9-81a4-463b3b6479f3",
   "metadata": {},
   "outputs": [],
   "source": [
    "num1=50\n"
   ]
  },
  {
   "cell_type": "code",
   "execution_count": 3,
   "id": "07431587-7c41-4c96-93c7-9792594f7e03",
   "metadata": {},
   "outputs": [
    {
     "ename": "SyntaxError",
     "evalue": "invalid syntax (3515301059.py, line 1)",
     "output_type": "error",
     "traceback": [
      "\u001b[1;36m  Cell \u001b[1;32mIn[3], line 1\u001b[1;36m\u001b[0m\n\u001b[1;33m    $name=dev\u001b[0m\n\u001b[1;37m    ^\u001b[0m\n\u001b[1;31mSyntaxError\u001b[0m\u001b[1;31m:\u001b[0m invalid syntax\n"
     ]
    }
   ],
   "source": [
    "$name=dev\n"
   ]
  },
  {
   "cell_type": "code",
   "execution_count": 5,
   "id": "1309e22d-71f7-48ae-a833-092065cbafbc",
   "metadata": {},
   "outputs": [],
   "source": [
    "stuName=\"dev\""
   ]
  },
  {
   "cell_type": "code",
   "execution_count": 7,
   "id": "ef3cd2b2-e04a-423b-8d06-0276fab6927a",
   "metadata": {},
   "outputs": [
    {
     "name": "stdout",
     "output_type": "stream",
     "text": [
      "stuName: dev\n"
     ]
    }
   ],
   "source": [
    "print(\"stuName:\",stuName)\n"
   ]
  },
  {
   "cell_type": "code",
   "execution_count": 8,
   "id": "8a4a0e48-fc4e-4366-a59b-9439873d652f",
   "metadata": {},
   "outputs": [
    {
     "ename": "SyntaxError",
     "evalue": "invalid syntax (3315971751.py, line 1)",
     "output_type": "error",
     "traceback": [
      "\u001b[1;36m  Cell \u001b[1;32mIn[8], line 1\u001b[1;36m\u001b[0m\n\u001b[1;33m    print(\"name:\",$name)\u001b[0m\n\u001b[1;37m                  ^\u001b[0m\n\u001b[1;31mSyntaxError\u001b[0m\u001b[1;31m:\u001b[0m invalid syntax\n"
     ]
    }
   ],
   "source": [
    "print(\"name:\",$name)\n",
    "\n"
   ]
  },
  {
   "cell_type": "code",
   "execution_count": 9,
   "id": "bab99a0e-06db-445c-abff-bb944b8a5259",
   "metadata": {},
   "outputs": [
    {
     "name": "stderr",
     "output_type": "stream",
     "text": [
      "'name' is not recognized as an internal or external command,\n",
      "operable program or batch file.\n"
     ]
    }
   ],
   "source": [
    "!name=\"dev\"\n"
   ]
  },
  {
   "cell_type": "code",
   "execution_count": 10,
   "id": "da566341-143d-4075-8642-323885fddc26",
   "metadata": {},
   "outputs": [
    {
     "ename": "SyntaxError",
     "evalue": "invalid syntax (3455833551.py, line 1)",
     "output_type": "error",
     "traceback": [
      "\u001b[1;36m  Cell \u001b[1;32mIn[10], line 1\u001b[1;36m\u001b[0m\n\u001b[1;33m    @name=\"dev\"\u001b[0m\n\u001b[1;37m         ^\u001b[0m\n\u001b[1;31mSyntaxError\u001b[0m\u001b[1;31m:\u001b[0m invalid syntax\n"
     ]
    }
   ],
   "source": [
    "@name=\"dev\"\n"
   ]
  },
  {
   "cell_type": "code",
   "execution_count": 11,
   "id": "c4c81641-df21-4e8a-89be-0a85b2a3db6c",
   "metadata": {},
   "outputs": [
    {
     "ename": "SyntaxError",
     "evalue": "invalid syntax (2093791013.py, line 1)",
     "output_type": "error",
     "traceback": [
      "\u001b[1;36m  Cell \u001b[1;32mIn[11], line 1\u001b[1;36m\u001b[0m\n\u001b[1;33m    a.1=123\u001b[0m\n\u001b[1;37m     ^\u001b[0m\n\u001b[1;31mSyntaxError\u001b[0m\u001b[1;31m:\u001b[0m invalid syntax\n"
     ]
    }
   ],
   "source": [
    "a.1=123"
   ]
  },
  {
   "cell_type": "code",
   "execution_count": 12,
   "id": "7557d1bc-88aa-4431-866b-945d5e5dba50",
   "metadata": {},
   "outputs": [
    {
     "ename": "SyntaxError",
     "evalue": "invalid syntax (2796937891.py, line 1)",
     "output_type": "error",
     "traceback": [
      "\u001b[1;36m  Cell \u001b[1;32mIn[12], line 1\u001b[1;36m\u001b[0m\n\u001b[1;33m    1a=11\u001b[0m\n\u001b[1;37m     ^\u001b[0m\n\u001b[1;31mSyntaxError\u001b[0m\u001b[1;31m:\u001b[0m invalid syntax\n"
     ]
    }
   ],
   "source": [
    "1a=11"
   ]
  },
  {
   "cell_type": "code",
   "execution_count": 13,
   "id": "a87a140d-e535-415f-9ef5-d0871768b4fd",
   "metadata": {},
   "outputs": [
    {
     "ename": "SyntaxError",
     "evalue": "cannot assign to operator (3440990122.py, line 1)",
     "output_type": "error",
     "traceback": [
      "\u001b[1;36m  Cell \u001b[1;32mIn[13], line 1\u001b[1;36m\u001b[0m\n\u001b[1;33m    a-1=11\u001b[0m\n\u001b[1;37m    ^\u001b[0m\n\u001b[1;31mSyntaxError\u001b[0m\u001b[1;31m:\u001b[0m cannot assign to operator\n"
     ]
    }
   ],
   "source": [
    "a-1=11"
   ]
  },
  {
   "cell_type": "code",
   "execution_count": 14,
   "id": "6efe6a4e-b08e-4ad7-8d55-d9fb3056ecf4",
   "metadata": {},
   "outputs": [],
   "source": [
    "a_1=11"
   ]
  },
  {
   "cell_type": "code",
   "execution_count": 15,
   "id": "1199ac36-18d0-429a-b86e-69b7a7049d30",
   "metadata": {},
   "outputs": [],
   "source": [
    "_a=1"
   ]
  },
  {
   "cell_type": "code",
   "execution_count": 16,
   "id": "97fdff50-092e-4122-898d-63345c494bd0",
   "metadata": {},
   "outputs": [],
   "source": [
    "a_q=1"
   ]
  },
  {
   "cell_type": "code",
   "execution_count": null,
   "id": "8b066cd6-9f8f-474c-8091-006cc74abec1",
   "metadata": {},
   "outputs": [],
   "source": []
  }
 ],
 "metadata": {
  "kernelspec": {
   "display_name": "Python 3 (ipykernel)",
   "language": "python",
   "name": "python3"
  },
  "language_info": {
   "codemirror_mode": {
    "name": "ipython",
    "version": 3
   },
   "file_extension": ".py",
   "mimetype": "text/x-python",
   "name": "python",
   "nbconvert_exporter": "python",
   "pygments_lexer": "ipython3",
   "version": "3.9.19"
  }
 },
 "nbformat": 4,
 "nbformat_minor": 5
}
